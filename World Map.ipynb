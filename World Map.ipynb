{
 "cells": [
  {
   "cell_type": "code",
   "execution_count": 6,
   "id": "8333e9d2",
   "metadata": {},
   "outputs": [],
   "source": [
    "import pygal\n",
    "worldmap =  pygal.maps.world.World()"
   ]
  },
  {
   "cell_type": "code",
   "execution_count": 8,
   "id": "dee55305",
   "metadata": {},
   "outputs": [
    {
     "name": "stdout",
     "output_type": "stream",
     "text": [
      "Success\n"
     ]
    }
   ],
   "source": [
    "worldmap.title = 'Co-Hosting Schools Countries'\n",
    "  \n",
    "# adding the countries\n",
    "worldmap.add('Random Data', {\n",
    "        'us' : 6,\n",
    "        'cn' : 2,\n",
    "        'ca' : 1,\n",
    "        'kr' : 1\n",
    "\n",
    "})\n",
    "  \n",
    "\n",
    "worldmap.render_to_file('cohost.svg')\n",
    "  \n",
    "print(\"Success\")"
   ]
  },
  {
   "cell_type": "code",
   "execution_count": null,
   "id": "96979b56",
   "metadata": {},
   "outputs": [],
   "source": []
  }
 ],
 "metadata": {
  "kernelspec": {
   "display_name": "Python 3",
   "language": "python",
   "name": "python3"
  },
  "language_info": {
   "codemirror_mode": {
    "name": "ipython",
    "version": 3
   },
   "file_extension": ".py",
   "mimetype": "text/x-python",
   "name": "python",
   "nbconvert_exporter": "python",
   "pygments_lexer": "ipython3",
   "version": "3.8.8"
  }
 },
 "nbformat": 4,
 "nbformat_minor": 5
}
